{
 "cells": [
  {
   "cell_type": "code",
   "execution_count": 4,
   "id": "90872b5e",
   "metadata": {},
   "outputs": [],
   "source": [
    "%matplotlib inline\n",
    "import import_ipynb\n",
    "import numpy as np\n",
    "import scipy as sp\n",
    "import matplotlib.pyplot as plt\n",
    "from IPython.core.pylabtools import figsize\n",
    "from SV_channel import SV_channel\n",
    "from HybridMassiveMIMO import HybridMassiveMIMO"
   ]
  },
  {
   "cell_type": "code",
   "execution_count": 5,
   "id": "5115333f",
   "metadata": {},
   "outputs": [],
   "source": [
    "np.random.seed(79)\n",
    "\n",
    "qam16_gray = {\"0000\": np.complex128(-3 + 3j), \"0001\": np.complex128(-3 + 1j), \"0010\": np.complex128(-3 - 3j), \\\n",
    "              \"0011\": np.complex128(-3 - 1j), \"0100\": np.complex128(-1 + 3j), \"0101\": np.complex128(-1 + 1j), \\\n",
    "              \"0110\": np.complex128(-1 - 3j), \"0111\": np.complex128(-1 - 1j), \"1000\": np.complex128(3 + 3j), \\\n",
    "              \"1001\": np.complex128(3 + 1j), \"1010\": np.complex128(3 - 3j), \"1011\": np.complex128(3 - 1j), \\\n",
    "              \"1100\": np.complex128(1 + 3j), \"1101\": np.complex128(1 + 1j), \"1110\": np.complex128(1 - 3j), \\\n",
    "              \"1111\": np.complex128(1 - 1j)}\n",
    "\n",
    "N_tx = (4, 4)\n",
    "N_rx = (2, 2)\n",
    "N_rf = 4\n",
    "model = HybridMassiveMIMO(N_s = 4,\n",
    "                     N_rf = N_rf, \n",
    "                     N_tx = N_tx[0] * N_tx[1], \n",
    "                     N_rx = N_rx[0] * N_rx[1],\n",
    "                     N_ofdm = 10,\n",
    "                     N_ifft = 512,\n",
    "                     N_c = 450,\n",
    "                     N_gi = 64,\n",
    "                     mapping = qam16_gray)\n",
    "\n",
    "SNR_dBHz = (40, 70)\n",
    "F_rf = np.random.normal(0, 1, size = (N_tx[0] * N_tx[1], N_rf)) + 1j * np.random.normal(0, 1, size = (N_tx[0] * N_tx[1], N_rf))\n",
    "\n",
    "sv_channel = SV_channel(cl = 10, \n",
    "                    rays = 2, \n",
    "                    d_phi = 7.5, \n",
    "                    d_thetta = 7.5,\n",
    "                    a_r = N_rx,\n",
    "                    a_t = N_tx)\n",
    "\n",
    "H = sv_channel.compute_channel()\n",
    "\n",
    "ber = model.compute_BER(F_rf, H, SNR_dBHz)"
   ]
  },
  {
   "cell_type": "code",
   "execution_count": null,
   "id": "afd11371",
   "metadata": {},
   "outputs": [],
   "source": [
    "figsize(10, 4)\n",
    "plt.semilogy(np.arange(40, 70), ber, color = 'k', alpha = 0.8, lw = 2.0)\n",
    "plt.xlim(40, 70)\n",
    "plt.ylim(1e-6, 1)\n",
    "plt.xlabel('SNR, dB', fontsize = 12)\n",
    "plt.ylabel('BER', fontsize = 12)\n",
    "plt.title('Bit error rate', fontsize = 12)\n",
    "plt.xticks(fontsize = 10)\n",
    "plt.yticks(fontsize = 10)\n",
    "plt.grid()\n",
    "plt.show()"
   ]
  },
  {
   "cell_type": "code",
   "execution_count": null,
   "id": "43a57a17",
   "metadata": {},
   "outputs": [],
   "source": []
  }
 ],
 "metadata": {
  "kernelspec": {
   "display_name": "Python 3 (ipykernel)",
   "language": "python",
   "name": "python3"
  },
  "language_info": {
   "codemirror_mode": {
    "name": "ipython",
    "version": 3
   },
   "file_extension": ".py",
   "mimetype": "text/x-python",
   "name": "python",
   "nbconvert_exporter": "python",
   "pygments_lexer": "ipython3",
   "version": "3.9.13"
  }
 },
 "nbformat": 4,
 "nbformat_minor": 5
}
